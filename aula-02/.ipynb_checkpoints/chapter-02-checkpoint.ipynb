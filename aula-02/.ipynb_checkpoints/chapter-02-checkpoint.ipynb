{
 "cells": [
  {
   "cell_type": "markdown",
   "id": "b57ed083-a87a-48bb-8c52-650c6f48522f",
   "metadata": {},
   "source": [
    "# Acessando corpus\n",
    "\n",
    "1. NLTK corpora\n",
    "2. Plain text files\n",
    "3. Corpus anotados"
   ]
  },
  {
   "cell_type": "code",
   "execution_count": 6,
   "id": "9a068001-1794-47cc-9c15-b5ab75dd3ef1",
   "metadata": {},
   "outputs": [],
   "source": [
    "import nltk\n",
    "from nltk.probability import FreqDist\n",
    "from nltk.corpus import PlaintextCorpusReader"
   ]
  },
  {
   "cell_type": "code",
   "execution_count": 7,
   "id": "e0dae7a6-9af0-489a-a6ab-eeab3dba59b5",
   "metadata": {},
   "outputs": [
    {
     "data": {
      "text/plain": [
       "['31.raw',\n",
       " '310.raw',\n",
       " '3100.raw',\n",
       " '3101.raw',\n",
       " '3102.raw',\n",
       " '3103.raw',\n",
       " '3104.raw',\n",
       " '3105.raw',\n",
       " '3106.raw',\n",
       " '3107.raw']"
      ]
     },
     "execution_count": 7,
     "metadata": {},
     "output_type": "execute_result"
    }
   ],
   "source": [
    "corpus_root = '../dhbb/'\n",
    "dhbb = PlaintextCorpusReader(corpus_root, '.*')\n",
    "\n",
    "# arquivos\n",
    "dhbb.fileids()[:10]\n",
    "\n",
    "# sentenças\n",
    "# dhbb.sents()\n",
    "\n",
    "# words \n",
    "# dhbb.words()[:10]"
   ]
  },
  {
   "cell_type": "code",
   "execution_count": 3,
   "id": "f80ed138-4457-4ffb-8bc1-0ab8a7e5c296",
   "metadata": {},
   "outputs": [
    {
     "data": {
      "text/plain": [
       "[(',', 13529),\n",
       " ('de', 12020),\n",
       " ('a', 5894),\n",
       " ('.', 5709),\n",
       " ('do', 5178),\n",
       " ('e', 4392),\n",
       " ('da', 4262),\n",
       " ('o', 4198),\n",
       " ('em', 3358),\n",
       " ('-', 3094),\n",
       " ('que', 2318),\n",
       " ('no', 2016),\n",
       " ('se', 1777),\n",
       " ('para', 1636),\n",
       " ('(', 1553),\n",
       " ('com', 1418),\n",
       " ('na', 1412),\n",
       " ('foi', 1136),\n",
       " ('ao', 1115),\n",
       " ('à', 1027),\n",
       " ('dos', 1026),\n",
       " ('por', 946),\n",
       " ('Em', 939),\n",
       " ('os', 891),\n",
       " ('um', 794),\n",
       " ('),', 782),\n",
       " ('uma', 762),\n",
       " ('governo', 760),\n",
       " ('pelo', 698),\n",
       " ('presidente', 676)]"
      ]
     },
     "execution_count": 3,
     "metadata": {},
     "output_type": "execute_result"
    }
   ],
   "source": [
    "fd = FreqDist(dhbb.words())\n",
    "fd.most_common(30)"
   ]
  },
  {
   "cell_type": "markdown",
   "id": "4bdff1a1-0cbc-452e-995d-34dfb75ad477",
   "metadata": {},
   "source": [
    "# Distribuição de Frequencia Condicional"
   ]
  },
  {
   "cell_type": "code",
   "execution_count": 13,
   "id": "fa920e0e-db03-4389-80f2-9fc1c2739a67",
   "metadata": {},
   "outputs": [
    {
     "data": {
      "text/plain": [
       "<ConditionalFreqDist with 15 conditions>"
      ]
     },
     "execution_count": 13,
     "metadata": {},
     "output_type": "execute_result"
    }
   ],
   "source": [
    "import nltk\n",
    "from nltk.corpus import brown\n",
    "genre_word = [\n",
    "    (genre, word)\n",
    "    for genre in brown.categories()\n",
    "    for word in brown.words(categories=genre)]\n",
    "cfd = nltk.ConditionalFreqDist(genre_word)\n",
    "cfd"
   ]
  },
  {
   "cell_type": "code",
   "execution_count": 34,
   "id": "71e604c5-a4f1-478b-9c4d-9d593afc86aa",
   "metadata": {},
   "outputs": [
    {
     "data": {
      "text/plain": [
       "['adventure',\n",
       " 'belles_lettres',\n",
       " 'editorial',\n",
       " 'fiction',\n",
       " 'government',\n",
       " 'hobbies',\n",
       " 'humor',\n",
       " 'learned',\n",
       " 'lore',\n",
       " 'mystery',\n",
       " 'news',\n",
       " 'religion',\n",
       " 'reviews',\n",
       " 'romance',\n",
       " 'science_fiction']"
      ]
     },
     "execution_count": 34,
     "metadata": {},
     "output_type": "execute_result"
    }
   ],
   "source": [
    "cfd.conditions()"
   ]
  },
  {
   "cell_type": "code",
   "execution_count": 35,
   "id": "e97d0b50-37a5-4d4f-b1bc-9f9f5fd6c719",
   "metadata": {},
   "outputs": [
    {
     "data": {
      "text/plain": [
       "FreqDist({'.': 4057, ',': 3488, 'the': 3370, 'and': 1622, 'a': 1354, 'of': 1322, 'to': 1309, '``': 998, \"''\": 995, 'was': 914, ...})"
      ]
     },
     "execution_count": 35,
     "metadata": {},
     "output_type": "execute_result"
    }
   ],
   "source": [
    "cfd['adventure']"
   ]
  },
  {
   "cell_type": "code",
   "execution_count": 52,
   "id": "e09ca3d2-787c-4911-ba00-020dee9d98bb",
   "metadata": {},
   "outputs": [
    {
     "data": {
      "text/plain": [
       "[('responsibility', 21),\n",
       " ('industry', 21),\n",
       " ('administrative', 21),\n",
       " ('effective', 21),\n",
       " ('give', 21),\n",
       " ('like', 21),\n",
       " ('expenditures', 21),\n",
       " ('least', 21),\n",
       " ('President', 21),\n",
       " ('close', 21)]"
      ]
     },
     "execution_count": 52,
     "metadata": {},
     "output_type": "execute_result"
    }
   ],
   "source": [
    "cfd['government'].most_common(400)[-10:]"
   ]
  },
  {
   "cell_type": "code",
   "execution_count": 73,
   "id": "509b46ed-5303-4052-92b7-1074158606b5",
   "metadata": {},
   "outputs": [
    {
     "name": "stdout",
     "output_type": "stream",
     "text": [
      "                president      good    church \n",
      "      adventure         0        37        37 \n",
      " belles_lettres         7       111       126 \n",
      "      editorial         7        65        75 \n",
      "        fiction         1        56        95 \n",
      "     government        27        52        55 \n",
      "        hobbies         5       101       102 \n",
      "          humor         1        12        13 \n",
      "         humour         0         0         0 \n",
      "        learned        11        55        58 \n",
      "           lore         2        92       142 \n",
      "        mystery         0        40        42 \n",
      "           news        53       103       119 \n",
      "       religion         1        38        89 \n",
      "        reviews         1        43        43 \n",
      "        romance         9        74       103 \n",
      "science_fiction         0        13        16 \n"
     ]
    }
   ],
   "source": [
    "cfd.tabulate(samples=['president','good','church'], cumulative=True)"
   ]
  },
  {
   "cell_type": "markdown",
   "id": "5168abce-a41a-43b9-8edb-58c09493b619",
   "metadata": {},
   "source": [
    "# geração de texto "
   ]
  },
  {
   "cell_type": "code",
   "execution_count": 20,
   "id": "ec342b2b-d3b1-4759-ba5c-7eede937abed",
   "metadata": {},
   "outputs": [
    {
     "name": "stdout",
     "output_type": "stream",
     "text": [
      "elegeu - se a presidência da República , o governo de Janeiro , o governo de Janeiro , o governo de Janeiro , o governo de Janeiro , o governo "
     ]
    }
   ],
   "source": [
    "def generate_model(cfdist, word, num=30):\n",
    "    for i in range(num):\n",
    "        print(word, end=' ')\n",
    "        word = cfdist[word].max()\n",
    "\n",
    "text = dhbb.words()\n",
    "bigrams = nltk.bigrams(text)\n",
    "cfd = nltk.ConditionalFreqDist(bigrams) \n",
    "generate_model(cfd, 'elegeu')"
   ]
  },
  {
   "cell_type": "code",
   "execution_count": null,
   "id": "05522cde-3d25-4519-99d8-47b1b4d4270b",
   "metadata": {},
   "outputs": [],
   "source": []
  },
  {
   "cell_type": "code",
   "execution_count": null,
   "id": "06bc9bc2-7d71-4718-9fd7-6e3602154353",
   "metadata": {},
   "outputs": [],
   "source": []
  }
 ],
 "metadata": {
  "kernelspec": {
   "display_name": "Python 3 (ipykernel)",
   "language": "python",
   "name": "python3"
  },
  "language_info": {
   "codemirror_mode": {
    "name": "ipython",
    "version": 3
   },
   "file_extension": ".py",
   "mimetype": "text/x-python",
   "name": "python",
   "nbconvert_exporter": "python",
   "pygments_lexer": "ipython3",
   "version": "3.8.13"
  }
 },
 "nbformat": 4,
 "nbformat_minor": 5
}
