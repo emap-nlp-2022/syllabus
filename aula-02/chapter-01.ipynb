{
 "cells": [
  {
   "cell_type": "markdown",
   "id": "a08353d0-12ea-403d-b20c-0c94583f911c",
   "metadata": {
    "tags": []
   },
   "source": [
    "# NLTK Book\n",
    "\n",
    "Capítulo 1 do livro https://www.nltk.org/book/."
   ]
  },
  {
   "cell_type": "code",
   "execution_count": 1,
   "id": "03e96681-4c3f-4b98-8cbe-158af79bba40",
   "metadata": {},
   "outputs": [
    {
     "name": "stdout",
     "output_type": "stream",
     "text": [
      "*** Introductory Examples for the NLTK Book ***\n",
      "Loading text1, ..., text9 and sent1, ..., sent9\n",
      "Type the name of the text or sentence to view it.\n",
      "Type: 'texts()' or 'sents()' to list the materials.\n",
      "text1: Moby Dick by Herman Melville 1851\n",
      "text2: Sense and Sensibility by Jane Austen 1811\n",
      "text3: The Book of Genesis\n",
      "text4: Inaugural Address Corpus\n",
      "text5: Chat Corpus\n",
      "text6: Monty Python and the Holy Grail\n",
      "text7: Wall Street Journal\n",
      "text8: Personals Corpus\n",
      "text9: The Man Who Was Thursday by G . K . Chesterton 1908\n"
     ]
    }
   ],
   "source": [
    "from nltk.book import *"
   ]
  },
  {
   "cell_type": "markdown",
   "id": "740da895-bb4c-4581-b2ba-191f0c1fcfa1",
   "metadata": {},
   "source": [
    "## Explorando os textos"
   ]
  },
  {
   "cell_type": "code",
   "execution_count": 4,
   "id": "5a50e0de-2b9d-4b70-91ff-bdc5d3aeeea4",
   "metadata": {},
   "outputs": [
    {
     "data": {
      "text/plain": [
       "<Text: Moby Dick by Herman Melville 1851>"
      ]
     },
     "execution_count": 4,
     "metadata": {},
     "output_type": "execute_result"
    }
   ],
   "source": [
    "text1"
   ]
  },
  {
   "cell_type": "code",
   "execution_count": 18,
   "id": "50486155-3420-48c7-ae86-f9ae9bd84464",
   "metadata": {},
   "outputs": [
    {
     "name": "stdout",
     "output_type": "stream",
     "text": [
      "Displaying 10 of 10 matches:\n",
      ", unless , indeed , I were willing to run counter to the lights of experience a\n",
      "Government should not be permitted to run behind or increase its debt in times \n",
      " tariff is more important in the long run than the perfecting of the reforms in\n",
      " as well as the currents of our trade run quick at all seasons back and forth b\n",
      " come the conviction that in the long run economic morality pays . We are begin\n",
      "ed : \" Things in life will not always run smoothly . Sometimes we will be risin\n",
      "nlarge the area in which its writ may run . Finally , to those nations who woul\n",
      "birth . And sometimes our differences run so deep , it seems we share a contine\n",
      "ipation of the governed . In the long run , there is no justice without freedom\n",
      "nds and the soil to fuel our cars and run our factories . And we will transform\n"
     ]
    }
   ],
   "source": [
    "text4.concordance(\"run\")"
   ]
  },
  {
   "cell_type": "markdown",
   "id": "650456be-b84a-45a9-8e14-823e361e78b2",
   "metadata": {},
   "source": [
    "Quais palavras aparecem em contextos similares?"
   ]
  },
  {
   "cell_type": "code",
   "execution_count": 11,
   "id": "dc9c097b-bf9c-4c53-aad0-9691a66ae33a",
   "metadata": {},
   "outputs": [
    {
     "name": "stdout",
     "output_type": "stream",
     "text": [
      "government nation people union world time constitution land citizens\n",
      "peace power states way laws spirit system faith strength republic\n",
      "future\n"
     ]
    }
   ],
   "source": [
    "text4.similar(\"country\")"
   ]
  },
  {
   "cell_type": "code",
   "execution_count": 14,
   "id": "529708eb-b730-4f8a-a9dd-2e0e82b4e8c0",
   "metadata": {},
   "outputs": [
    {
     "name": "stdout",
     "output_type": "stream",
     "text": [
      "No common contexts were found\n"
     ]
    }
   ],
   "source": [
    "text2.common_contexts([\"country\", \"people\"])"
   ]
  },
  {
   "cell_type": "code",
   "execution_count": 15,
   "id": "e31b9cc5-a59e-44e9-ae27-5e9696af321f",
   "metadata": {},
   "outputs": [
    {
     "data": {
      "image/png": "[encoded data removed]",
      "text/plain": [
       "<Figure size 432x288 with 1 Axes>"
      ]
     },
     "metadata": {
      "needs_background": "light"
     },
     "output_type": "display_data"
    }
   ],
   "source": [
    "text4.dispersion_plot([\"racism\", \"democracy\", \"terrorism\", \"duties\"])"
   ]
  },
  {
   "cell_type": "markdown",
   "id": "1c04eb3d-d69b-4301-8d49-b775fe749172",
   "metadata": {},
   "source": [
    "## Vocabulário"
   ]
  },
  {
   "cell_type": "code",
   "execution_count": 19,
   "id": "3ce5daa6-2189-4c1b-bd1a-55eeb2abe1f2",
   "metadata": {},
   "outputs": [
    {
     "data": {
      "text/plain": [
       "44764"
      ]
     },
     "execution_count": 19,
     "metadata": {},
     "output_type": "execute_result"
    }
   ],
   "source": [
    "len(text3)"
   ]
  },
  {
   "cell_type": "code",
   "execution_count": 27,
   "id": "cf496927-2641-4848-b957-0374ddac27fc",
   "metadata": {},
   "outputs": [
    {
     "data": {
      "text/plain": [
       "(2789,\n",
       " ['In',\n",
       "  'the',\n",
       "  'beginning',\n",
       "  'God',\n",
       "  'created',\n",
       "  'the',\n",
       "  'heaven',\n",
       "  'and',\n",
       "  'the',\n",
       "  'earth',\n",
       "  '.',\n",
       "  'And',\n",
       "  'the',\n",
       "  'earth',\n",
       "  'was',\n",
       "  'without',\n",
       "  'form',\n",
       "  ',',\n",
       "  'and',\n",
       "  'void'],\n",
       " ['!',\n",
       "  \"'\",\n",
       "  '(',\n",
       "  ')',\n",
       "  ',',\n",
       "  ',)',\n",
       "  '.',\n",
       "  '.)',\n",
       "  ':',\n",
       "  ';',\n",
       "  ';)',\n",
       "  '?',\n",
       "  '?)',\n",
       "  'A',\n",
       "  'Abel',\n",
       "  'Abelmizraim',\n",
       "  'Abidah',\n",
       "  'Abide',\n",
       "  'Abimael',\n",
       "  'Abimelech'])"
      ]
     },
     "execution_count": 27,
     "metadata": {},
     "output_type": "execute_result"
    }
   ],
   "source": [
    "len(set(text3)), text3[:20], sorted(set(text3))[:20]"
   ]
  },
  {
   "cell_type": "code",
   "execution_count": 32,
   "id": "fd12d9fd-778a-4d7d-82c7-dd2fc9a609f9",
   "metadata": {},
   "outputs": [
    {
     "data": {
      "text/plain": [
       "(0.13477005109975562, 45010, 0.06556530042314962, 152901)"
      ]
     },
     "execution_count": 32,
     "metadata": {},
     "output_type": "execute_result"
    }
   ],
   "source": [
    "# numero de palavras distintas\n",
    "len(set(text5)) / len(text5), len(text5), len(set(text4)) / len(text4), len(text4)"
   ]
  },
  {
   "cell_type": "code",
   "execution_count": 33,
   "id": "266648cf-4991-4c77-addf-f13651038a5d",
   "metadata": {},
   "outputs": [
    {
     "data": {
      "text/plain": [
       "231"
      ]
     },
     "execution_count": 33,
     "metadata": {},
     "output_type": "execute_result"
    }
   ],
   "source": [
    "text3.count(\"God\")"
   ]
  },
  {
   "cell_type": "code",
   "execution_count": 37,
   "id": "e895ef71-5ab2-4254-b4b3-c0f17233f2e0",
   "metadata": {},
   "outputs": [
    {
     "data": {
      "text/plain": [
       "0.07259599348598113"
      ]
     },
     "execution_count": 37,
     "metadata": {},
     "output_type": "execute_result"
    }
   ],
   "source": [
    "# qual porcentagem do texto é ocupada por uma palavra específica?\n",
    "100 * text4.count('God') / len(text4)"
   ]
  },
  {
   "cell_type": "code",
   "execution_count": 34,
   "id": "aa3f0dcd-6552-47de-b9c5-123c3c03d575",
   "metadata": {},
   "outputs": [],
   "source": [
    "def lexical_diversity(text):\n",
    "    return len(set(text)) / len(text)\n",
    "\n",
    "def percentage(count, total):\n",
    "    return 100 * count / total"
   ]
  },
  {
   "cell_type": "code",
   "execution_count": 40,
   "id": "ee6bace2-9e97-4cdf-87c2-12298dd523b2",
   "metadata": {},
   "outputs": [
    {
     "data": {
      "text/plain": [
       "(0.06230453042623537, 0.13477005109975562)"
      ]
     },
     "execution_count": 40,
     "metadata": {},
     "output_type": "execute_result"
    }
   ],
   "source": [
    "lexical_diversity(text3), lexical_diversity(text5)"
   ]
  },
  {
   "cell_type": "code",
   "execution_count": 38,
   "id": "53cb641d-3f5a-4f9f-aa56-5c2d6f76a2a1",
   "metadata": {},
   "outputs": [
    {
     "data": {
      "text/plain": [
       "[('my', 472),\n",
       " ('no', 419),\n",
       " ('an', 388),\n",
       " ('who', 376),\n",
       " ('must', 373),\n",
       " ('so', 369),\n",
       " ('It', 366),\n",
       " ('upon', 365),\n",
       " ('--', 363),\n",
       " ('they', 358)]"
      ]
     },
     "execution_count": 38,
     "metadata": {},
     "output_type": "execute_result"
    }
   ],
   "source": [
    "fdist1 = FreqDist(text4)\n",
    "fdist1.most_common(100)[40:50]"
   ]
  },
  {
   "cell_type": "code",
   "execution_count": 39,
   "id": "3b54e89d-508d-4fcb-8171-a194f76b6a3c",
   "metadata": {},
   "outputs": [
    {
     "data": {
      "image/png": "[encoded data removed]",
      "text/plain": [
       "<Figure size 432x288 with 1 Axes>"
      ]
     },
     "metadata": {
      "needs_background": "light"
     },
     "output_type": "display_data"
    },
    {
     "data": {
      "text/plain": [
       "<AxesSubplot:xlabel='Samples', ylabel='Cumulative Counts'>"
      ]
     },
     "execution_count": 39,
     "metadata": {},
     "output_type": "execute_result"
    }
   ],
   "source": [
    "fdist1.plot(50, cumulative=True)"
   ]
  },
  {
   "cell_type": "code",
   "execution_count": 55,
   "id": "a9c08b6e-af21-4091-8a6f-d86acc3f91b9",
   "metadata": {},
   "outputs": [
    {
     "data": {
      "text/plain": [
       "['238,000-circulation',\n",
       " 'Arbitrage-related',\n",
       " 'Bridgestone\\\\/Firestone',\n",
       " 'Chinese-American',\n",
       " 'Corton-Charlemagne',\n",
       " 'English-speaking',\n",
       " 'Freeport-McMoRan',\n",
       " 'Hart-Scott-Rodino',\n",
       " 'Lafite-Rothschild',\n",
       " 'Louisiana-Pacific',\n",
       " 'Macmillan\\\\/McGraw',\n",
       " 'Macmillan\\\\/McGraw-Hill',\n",
       " 'Metallgesellschaft',\n",
       " 'Minneapolis-based',\n",
       " 'Philadelphia-based']"
      ]
     },
     "execution_count": 55,
     "metadata": {},
     "output_type": "execute_result"
    }
   ],
   "source": [
    "V = set(text7)\n",
    "long_words = [w for w in V if len(w) > 15]\n",
    "sorted(long_words)[:15]"
   ]
  },
  {
   "cell_type": "code",
   "execution_count": 72,
   "id": "f9ef4b5c-5d0b-42cc-91b5-2275bbab5f21",
   "metadata": {},
   "outputs": [
    {
     "data": {
      "text/plain": [
       "['Welcome',\n",
       " 'actually',\n",
       " 'already',\n",
       " 'always',\n",
       " 'another',\n",
       " 'anybody',\n",
       " 'anyone',\n",
       " 'anything',\n",
       " 'around',\n",
       " 'asking']"
      ]
     },
     "execution_count": 72,
     "metadata": {},
     "output_type": "execute_result"
    }
   ],
   "source": [
    "fdist5 = FreqDist(text5)\n",
    "sorted(w for w in set(text5) if len(w) > 5 and fdist5[w] > 7)[10:20]"
   ]
  },
  {
   "cell_type": "markdown",
   "id": "e88a933a-aa1a-4569-91f6-822f9d0eee69",
   "metadata": {},
   "source": [
    "## collocations e bigramas\n",
    "\n",
    "1. collocations são sequencias de palavras que ocorrem com alguma frequencia (ex: vinho tinto, sistema operacional etc)\n",
    "2. bigramas são as subsequencias do texto de tamanho 2.."
   ]
  },
  {
   "cell_type": "code",
   "execution_count": 57,
   "id": "ea017ee9-88bb-4b08-a899-dbcbb5c291eb",
   "metadata": {},
   "outputs": [
    {
     "data": {
      "text/plain": [
       "[('more', 'is'), ('is', 'said'), ('said', 'than'), ('than', 'done')]"
      ]
     },
     "execution_count": 57,
     "metadata": {},
     "output_type": "execute_result"
    }
   ],
   "source": [
    "list(bigrams(['more', 'is', 'said', 'than', 'done']))"
   ]
  },
  {
   "cell_type": "code",
   "execution_count": 58,
   "id": "b484a938-165c-4397-bffb-57edac092862",
   "metadata": {},
   "outputs": [
    {
     "name": "stdout",
     "output_type": "stream",
     "text": [
      "United States; fellow citizens; years ago; four years; Federal\n",
      "Government; General Government; American people; Vice President; God\n",
      "bless; Chief Justice; one another; fellow Americans; Old World;\n",
      "Almighty God; Fellow citizens; Chief Magistrate; every citizen; Indian\n",
      "tribes; public debt; foreign nations\n"
     ]
    }
   ],
   "source": [
    "text4.collocations()"
   ]
  },
  {
   "cell_type": "code",
   "execution_count": 59,
   "id": "37ff3569-21d5-46a6-a8eb-baff1d640ee2",
   "metadata": {},
   "outputs": [
    {
     "name": "stdout",
     "output_type": "stream",
     "text": [
      "million *U*; New York; billion *U*; Wall Street; program trading; Mrs.\n",
      "Yeargin; vice president; Stock Exchange; Big Board; Georgia Gulf;\n",
      "chief executive; Dow Jones; S&P 500; says *T*-1; York Stock; last\n",
      "year; Sea Containers; South Korea; American Express; San Francisco\n"
     ]
    }
   ],
   "source": [
    "text7.collocations()"
   ]
  },
  {
   "cell_type": "code",
   "execution_count": 66,
   "id": "9f51f339-8ea1-469c-8f17-2f6eea0daee0",
   "metadata": {},
   "outputs": [
    {
     "data": {
      "text/plain": [
       "['Business',\n",
       " 'Darkness',\n",
       " 'Loveliness',\n",
       " 'Madness',\n",
       " 'Righteousness',\n",
       " 'Unfitness',\n",
       " 'Whiteness',\n",
       " 'Witness',\n",
       " 'aboriginalness',\n",
       " 'acridness',\n",
       " 'acuteness',\n",
       " 'adhesiveness',\n",
       " 'apprehensiveness',\n",
       " 'artificialness',\n",
       " 'awfulness']"
      ]
     },
     "execution_count": 66,
     "metadata": {},
     "output_type": "execute_result"
    }
   ],
   "source": [
    "sorted(w for w in set(text1) if w.endswith('ness'))[:15]"
   ]
  },
  {
   "cell_type": "markdown",
   "id": "570457bf-8acf-4601-b06e-9e575eb51785",
   "metadata": {
    "tags": []
   },
   "source": [
    "## Language Understanding\n",
    "\n",
    "### disambiguação de palavras\n",
    "\n",
    "1. he served the dish\n",
    "2. We can fish\n",
    "3. The lost children were found by the searchers (agentive)\n",
    "4. The lost children were found by the mountain (locative)\n",
    "5. The lost children were found by the afternoon (temporal)\n",
    "\n",
    "### resolução de pronomes (anáforas)\n",
    "\n",
    "1. John can open Bill's safe. He knows the combination.\n",
    "2. John can open Bill's safe. He should have changed the combination.\n",
    "\n",
    "### interpretação temporal e common sense\n",
    "\n",
    "1. Max fell. Kim helped him up.\n",
    "2. Max fell. Kim pushed him.\n",
    "\n",
    "### aplicações\n",
    "\n",
    "1. QA (acima)\n",
    "2. tradução automática (ex. google translation nurse/doctor)\n",
    "3. text entailment (ex sick corpus)"
   ]
  },
  {
   "cell_type": "code",
   "execution_count": null,
   "id": "11c7eb94-900b-4e0c-8ce0-490b2e9f79e2",
   "metadata": {},
   "outputs": [],
   "source": []
  }
 ],
 "metadata": {
  "kernelspec": {
   "display_name": "Python 3 (ipykernel)",
   "language": "python",
   "name": "python3"
  },
  "language_info": {
   "codemirror_mode": {
    "name": "ipython",
    "version": 3
   },
   "file_extension": ".py",
   "mimetype": "text/x-python",
   "name": "python",
   "nbconvert_exporter": "python",
   "pygments_lexer": "ipython3",
   "version": "3.8.13"
  }
 },
 "nbformat": 4,
 "nbformat_minor": 5
}
