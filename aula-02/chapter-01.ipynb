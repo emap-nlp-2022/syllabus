{
 "cells": [
  {
   "cell_type": "markdown",
   "id": "a08353d0-12ea-403d-b20c-0c94583f911c",
   "metadata": {
    "tags": []
   },
   "source": [
    "# NLTK Book\n",
    "\n",
    "Capítulo 1 do livro https://www.nltk.org/book/."
   ]
  },
  {
   "cell_type": "code",
   "execution_count": 1,
   "id": "03e96681-4c3f-4b98-8cbe-158af79bba40",
   "metadata": {},
   "outputs": [
    {
     "name": "stdout",
     "output_type": "stream",
     "text": [
      "*** Introductory Examples for the NLTK Book ***\n",
      "Loading text1, ..., text9 and sent1, ..., sent9\n",
      "Type the name of the text or sentence to view it.\n",
      "Type: 'texts()' or 'sents()' to list the materials.\n",
      "text1: Moby Dick by Herman Melville 1851\n",
      "text2: Sense and Sensibility by Jane Austen 1811\n",
      "text3: The Book of Genesis\n",
      "text4: Inaugural Address Corpus\n",
      "text5: Chat Corpus\n",
      "text6: Monty Python and the Holy Grail\n",
      "text7: Wall Street Journal\n",
      "text8: Personals Corpus\n",
      "text9: The Man Who Was Thursday by G . K . Chesterton 1908\n"
     ]
    }
   ],
   "source": [
    "from nltk.book import *"
   ]
  },
  {
   "cell_type": "markdown",
   "id": "740da895-bb4c-4581-b2ba-191f0c1fcfa1",
   "metadata": {},
   "source": [
    "## Explorando os textos"
   ]
  },
  {
   "cell_type": "code",
   "execution_count": 2,
   "id": "5a50e0de-2b9d-4b70-91ff-bdc5d3aeeea4",
   "metadata": {},
   "outputs": [
    {
     "data": {
      "text/plain": [
       "<Text: Moby Dick by Herman Melville 1851>"
      ]
     },
     "execution_count": 2,
     "metadata": {},
     "output_type": "execute_result"
    }
   ],
   "source": [
    "text1"
   ]
  },
  {
   "cell_type": "code",
   "execution_count": 8,
   "id": "50486155-3420-48c7-ae86-f9ae9bd84464",
   "metadata": {},
   "outputs": [
    {
     "name": "stdout",
     "output_type": "stream",
     "text": [
      "Displaying 25 of 281 matches:\n",
      "once a whale in Spitzbergen that was white all over .\" -- A VOYAGE TO GREENLAND\n",
      "a swinging sign over the door with a white painting upon it , faintly represent\n",
      " deeply brown and burnt , making his white teeth dazzling by the contrast ; whi\n",
      "ed to me . I remembered a story of a white man -- a whaleman too -- who , falli\n",
      "ver heard of a hot sun ' s tanning a white man into a purplish yellow one . How\n",
      "while yet afloat . And ever , as the white moon shows her affrighted face from \n",
      "o all his ivory teeth , like so many white bolts , upon his prison . Then Jonah\n",
      "ld be so companionable ; as though a white man were anything more dignified tha\n",
      " our starboard hand till we opened a white church to the larboard , and then ke\n",
      "ened in the moonlight ; and like the white ivory tusks of some huge elephant , \n",
      "s needlessly , ye harpooneers ; good white cedar plank is raised full three per\n",
      "umility in looking up at him ; and a white man standing before him seemed a whi\n",
      "ite man standing before him seemed a white flag come to beg truce of a fortress\n",
      "l powers of discernment . So that no white sailor seriously contradicted him wh\n",
      "g grimness was owing to the barbaric white leg upon which he partly stood . It \n",
      "ant for sereneness , to send up mild white vapours among mild white hairs , not\n",
      "end up mild white vapours among mild white hairs , not among torn iron - grey l\n",
      " are whales hereabouts ! If ye see a white one , split your lungs for him ! \" W\n",
      " something queer about that , eh ? A white whale -- did ye mark that , man ? Lo\n",
      "he whales , making more gay foam and white water generally than any other of th\n",
      "pard - like look , being of a milk - white ground colour , dotted with round an\n",
      "o separate colours , black above and white below . The white comprises part of \n",
      " , black above and white below . The white comprises part of his head , and the\n",
      "ike a mute , maned sea - lion on the white coral beach , surrounded by his warl\n",
      " Alas ! Dough - Boy ! hard fares the white waiter who waits upon cannibals . No\n"
     ]
    }
   ],
   "source": [
    "text1.concordance(\"white\")"
   ]
  },
  {
   "cell_type": "markdown",
   "id": "650456be-b84a-45a9-8e14-823e361e78b2",
   "metadata": {},
   "source": [
    "Quais palavras aparecem em contextos similares?"
   ]
  },
  {
   "cell_type": "code",
   "execution_count": 12,
   "id": "dc9c097b-bf9c-4c53-aad0-9691a66ae33a",
   "metadata": {},
   "outputs": [
    {
     "name": "stdout",
     "output_type": "stream",
     "text": [
      "mere long late the him old it hand them that more far thee much pains\n",
      "deep length two other very\n"
     ]
    }
   ],
   "source": [
    "text1.similar(\"strong\")"
   ]
  },
  {
   "cell_type": "code",
   "execution_count": 13,
   "id": "529708eb-b730-4f8a-a9dd-2e0e82b4e8c0",
   "metadata": {},
   "outputs": [
    {
     "name": "stdout",
     "output_type": "stream",
     "text": [
      "am_glad a_pretty a_lucky is_pretty be_glad\n"
     ]
    }
   ],
   "source": [
    "text2.common_contexts([\"monstrous\", \"very\"])"
   ]
  },
  {
   "cell_type": "code",
   "execution_count": 17,
   "id": "e31b9cc5-a59e-44e9-ae27-5e9696af321f",
   "metadata": {},
   "outputs": [
    {
     "data": {
      "image/png": "[encoded data removed]",
      "text/plain": [
       "<Figure size 432x288 with 1 Axes>"
      ]
     },
     "metadata": {
      "needs_background": "light"
     },
     "output_type": "display_data"
    }
   ],
   "source": [
    "text4.dispersion_plot([\"racism\", \"democracy\", \"terrorism\", \"duties\"])"
   ]
  },
  {
   "cell_type": "markdown",
   "id": "1c04eb3d-d69b-4301-8d49-b775fe749172",
   "metadata": {},
   "source": [
    "## Vocabulário"
   ]
  },
  {
   "cell_type": "code",
   "execution_count": 18,
   "id": "3ce5daa6-2189-4c1b-bd1a-55eeb2abe1f2",
   "metadata": {},
   "outputs": [
    {
     "data": {
      "text/plain": [
       "44764"
      ]
     },
     "execution_count": 18,
     "metadata": {},
     "output_type": "execute_result"
    }
   ],
   "source": [
    "len(text3)"
   ]
  },
  {
   "cell_type": "code",
   "execution_count": 27,
   "id": "cf496927-2641-4848-b957-0374ddac27fc",
   "metadata": {},
   "outputs": [
    {
     "data": {
      "text/plain": [
       "(2789,\n",
       " ['!',\n",
       "  \"'\",\n",
       "  '(',\n",
       "  ')',\n",
       "  ',',\n",
       "  ',)',\n",
       "  '.',\n",
       "  '.)',\n",
       "  ':',\n",
       "  ';',\n",
       "  ';)',\n",
       "  '?',\n",
       "  '?)',\n",
       "  'A',\n",
       "  'Abel',\n",
       "  'Abelmizraim',\n",
       "  'Abidah',\n",
       "  'Abide',\n",
       "  'Abimael',\n",
       "  'Abimelech'])"
      ]
     },
     "execution_count": 27,
     "metadata": {},
     "output_type": "execute_result"
    }
   ],
   "source": [
    "len(set(text3)), sorted(set(text3))[:20]"
   ]
  },
  {
   "cell_type": "code",
   "execution_count": 29,
   "id": "fd12d9fd-778a-4d7d-82c7-dd2fc9a609f9",
   "metadata": {},
   "outputs": [
    {
     "data": {
      "text/plain": [
       "0.06230453042623537"
      ]
     },
     "execution_count": 29,
     "metadata": {},
     "output_type": "execute_result"
    }
   ],
   "source": [
    "# numero de palavras distintas\n",
    "len(set(text3)) / len(text3)"
   ]
  },
  {
   "cell_type": "code",
   "execution_count": 35,
   "id": "266648cf-4991-4c77-addf-f13651038a5d",
   "metadata": {},
   "outputs": [
    {
     "data": {
      "text/plain": [
       "231"
      ]
     },
     "execution_count": 35,
     "metadata": {},
     "output_type": "execute_result"
    }
   ],
   "source": [
    "text3.count(\"God\")"
   ]
  },
  {
   "cell_type": "code",
   "execution_count": 37,
   "id": "e895ef71-5ab2-4254-b4b3-c0f17233f2e0",
   "metadata": {},
   "outputs": [
    {
     "data": {
      "text/plain": [
       "0.07259599348598113"
      ]
     },
     "execution_count": 37,
     "metadata": {},
     "output_type": "execute_result"
    }
   ],
   "source": [
    "# qual porcentagem do texto é ocupada por uma palavra específica?\n",
    "100 * text4.count('God') / len(text4)"
   ]
  },
  {
   "cell_type": "code",
   "execution_count": 39,
   "id": "aa3f0dcd-6552-47de-b9c5-123c3c03d575",
   "metadata": {},
   "outputs": [],
   "source": [
    "def lexical_diversity(text):\n",
    "    return len(set(text)) / len(text)\n",
    "\n",
    "def percentage(count, total):\n",
    "    return 100 * count / total"
   ]
  },
  {
   "cell_type": "code",
   "execution_count": 40,
   "id": "ee6bace2-9e97-4cdf-87c2-12298dd523b2",
   "metadata": {},
   "outputs": [
    {
     "data": {
      "text/plain": [
       "(0.06230453042623537, 0.13477005109975562)"
      ]
     },
     "execution_count": 40,
     "metadata": {},
     "output_type": "execute_result"
    }
   ],
   "source": [
    "lexical_diversity(text3), lexical_diversity(text5)"
   ]
  },
  {
   "cell_type": "code",
   "execution_count": 48,
   "id": "53cb641d-3f5a-4f9f-aa56-5c2d6f76a2a1",
   "metadata": {},
   "outputs": [
    {
     "data": {
      "text/plain": [
       "[('shall', 253),\n",
       " ('they', 249),\n",
       " ('all', 245),\n",
       " (':', 238),\n",
       " ('God', 231),\n",
       " ('them', 230),\n",
       " ('not', 224),\n",
       " ('which', 198),\n",
       " ('father', 198),\n",
       " ('will', 195),\n",
       " ('land', 184),\n",
       " ('Jacob', 179),\n",
       " ('came', 177),\n",
       " ('her', 173),\n",
       " ('LORD', 166),\n",
       " ('were', 163),\n",
       " ('she', 161),\n",
       " ('from', 157),\n",
       " ('Joseph', 157),\n",
       " ('their', 153)]"
      ]
     },
     "execution_count": 48,
     "metadata": {},
     "output_type": "execute_result"
    }
   ],
   "source": [
    "fdist1 = FreqDist(text3)\n",
    "fdist1.most_common(50)[30:]"
   ]
  },
  {
   "cell_type": "code",
   "execution_count": 49,
   "id": "3b54e89d-508d-4fcb-8171-a194f76b6a3c",
   "metadata": {},
   "outputs": [
    {
     "data": {
      "image/png": "[encoded data removed]",
      "text/plain": [
       "<Figure size 432x288 with 1 Axes>"
      ]
     },
     "metadata": {
      "needs_background": "light"
     },
     "output_type": "display_data"
    },
    {
     "data": {
      "text/plain": [
       "<AxesSubplot:xlabel='Samples', ylabel='Cumulative Counts'>"
      ]
     },
     "execution_count": 49,
     "metadata": {},
     "output_type": "execute_result"
    }
   ],
   "source": [
    "fdist1.plot(50, cumulative=True)"
   ]
  },
  {
   "cell_type": "code",
   "execution_count": 55,
   "id": "a9c08b6e-af21-4091-8a6f-d86acc3f91b9",
   "metadata": {},
   "outputs": [
    {
     "data": {
      "text/plain": [
       "['238,000-circulation',\n",
       " 'Arbitrage-related',\n",
       " 'Bridgestone\\\\/Firestone',\n",
       " 'Chinese-American',\n",
       " 'Corton-Charlemagne',\n",
       " 'English-speaking',\n",
       " 'Freeport-McMoRan',\n",
       " 'Hart-Scott-Rodino',\n",
       " 'Lafite-Rothschild',\n",
       " 'Louisiana-Pacific',\n",
       " 'Macmillan\\\\/McGraw',\n",
       " 'Macmillan\\\\/McGraw-Hill',\n",
       " 'Metallgesellschaft',\n",
       " 'Minneapolis-based',\n",
       " 'Philadelphia-based']"
      ]
     },
     "execution_count": 55,
     "metadata": {},
     "output_type": "execute_result"
    }
   ],
   "source": [
    "V = set(text7)\n",
    "long_words = [w for w in V if len(w) > 15]\n",
    "sorted(long_words)[:15]"
   ]
  },
  {
   "cell_type": "code",
   "execution_count": 72,
   "id": "f9ef4b5c-5d0b-42cc-91b5-2275bbab5f21",
   "metadata": {},
   "outputs": [
    {
     "data": {
      "text/plain": [
       "['Welcome',\n",
       " 'actually',\n",
       " 'already',\n",
       " 'always',\n",
       " 'another',\n",
       " 'anybody',\n",
       " 'anyone',\n",
       " 'anything',\n",
       " 'around',\n",
       " 'asking']"
      ]
     },
     "execution_count": 72,
     "metadata": {},
     "output_type": "execute_result"
    }
   ],
   "source": [
    "fdist5 = FreqDist(text5)\n",
    "sorted(w for w in set(text5) if len(w) > 5 and fdist5[w] > 7)[10:20]"
   ]
  },
  {
   "cell_type": "markdown",
   "id": "e88a933a-aa1a-4569-91f6-822f9d0eee69",
   "metadata": {},
   "source": [
    "## collocations e bigramas\n",
    "\n",
    "1. collocations são sequencias de palavras que ocorrem com alguma frequencia (ex: vinho tinto, sistema operacional etc)\n",
    "2. bigramas são as subsequencias do texto de tamanho 2.."
   ]
  },
  {
   "cell_type": "code",
   "execution_count": 57,
   "id": "ea017ee9-88bb-4b08-a899-dbcbb5c291eb",
   "metadata": {},
   "outputs": [
    {
     "data": {
      "text/plain": [
       "[('more', 'is'), ('is', 'said'), ('said', 'than'), ('than', 'done')]"
      ]
     },
     "execution_count": 57,
     "metadata": {},
     "output_type": "execute_result"
    }
   ],
   "source": [
    "list(bigrams(['more', 'is', 'said', 'than', 'done']))"
   ]
  },
  {
   "cell_type": "code",
   "execution_count": 58,
   "id": "b484a938-165c-4397-bffb-57edac092862",
   "metadata": {},
   "outputs": [
    {
     "name": "stdout",
     "output_type": "stream",
     "text": [
      "United States; fellow citizens; years ago; four years; Federal\n",
      "Government; General Government; American people; Vice President; God\n",
      "bless; Chief Justice; one another; fellow Americans; Old World;\n",
      "Almighty God; Fellow citizens; Chief Magistrate; every citizen; Indian\n",
      "tribes; public debt; foreign nations\n"
     ]
    }
   ],
   "source": [
    "text4.collocations()"
   ]
  },
  {
   "cell_type": "code",
   "execution_count": 59,
   "id": "37ff3569-21d5-46a6-a8eb-baff1d640ee2",
   "metadata": {},
   "outputs": [
    {
     "name": "stdout",
     "output_type": "stream",
     "text": [
      "million *U*; New York; billion *U*; Wall Street; program trading; Mrs.\n",
      "Yeargin; vice president; Stock Exchange; Big Board; Georgia Gulf;\n",
      "chief executive; Dow Jones; S&P 500; says *T*-1; York Stock; last\n",
      "year; Sea Containers; South Korea; American Express; San Francisco\n"
     ]
    }
   ],
   "source": [
    "text7.collocations()"
   ]
  },
  {
   "cell_type": "code",
   "execution_count": 66,
   "id": "9f51f339-8ea1-469c-8f17-2f6eea0daee0",
   "metadata": {},
   "outputs": [
    {
     "data": {
      "text/plain": [
       "['Business',\n",
       " 'Darkness',\n",
       " 'Loveliness',\n",
       " 'Madness',\n",
       " 'Righteousness',\n",
       " 'Unfitness',\n",
       " 'Whiteness',\n",
       " 'Witness',\n",
       " 'aboriginalness',\n",
       " 'acridness',\n",
       " 'acuteness',\n",
       " 'adhesiveness',\n",
       " 'apprehensiveness',\n",
       " 'artificialness',\n",
       " 'awfulness']"
      ]
     },
     "execution_count": 66,
     "metadata": {},
     "output_type": "execute_result"
    }
   ],
   "source": [
    "sorted(w for w in set(text1) if w.endswith('ness'))[:15]"
   ]
  },
  {
   "cell_type": "markdown",
   "id": "570457bf-8acf-4601-b06e-9e575eb51785",
   "metadata": {
    "tags": []
   },
   "source": [
    "## Language Understanding\n",
    "\n",
    "### disambiguação de palavras\n",
    "\n",
    "1. he served the dish\n",
    "2. We can fish\n",
    "3. The lost children were found by the searchers (agentive)\n",
    "4. The lost children were found by the mountain (locative)\n",
    "5. The lost children were found by the afternoon (temporal)\n",
    "\n",
    "### resolução de pronomes (anáforas)\n",
    "\n",
    "1. John can open Bill's safe. He knows the combination.\n",
    "2. John can open Bill's safe. He should have changed the combination.\n",
    "\n",
    "### interpretação temporal e common sense\n",
    "\n",
    "1. Max fell. Kim helped him up.\n",
    "2. Max fell. Kim pushed him.\n",
    "\n",
    "### aplicações\n",
    "\n",
    "1. QA (acima)\n",
    "2. tradução automática (ex. google translation nurse/doctor)\n",
    "3. text entailment (ex sick corpus)"
   ]
  },
  {
   "cell_type": "code",
   "execution_count": null,
   "id": "11c7eb94-900b-4e0c-8ce0-490b2e9f79e2",
   "metadata": {},
   "outputs": [],
   "source": []
  }
 ],
 "metadata": {
  "kernelspec": {
   "display_name": "Python 3 (ipykernel)",
   "language": "python",
   "name": "python3"
  },
  "language_info": {
   "codemirror_mode": {
    "name": "ipython",
    "version": 3
   },
   "file_extension": ".py",
   "mimetype": "text/x-python",
   "name": "python",
   "nbconvert_exporter": "python",
   "pygments_lexer": "ipython3",
   "version": "3.8.13"
  }
 },
 "nbformat": 4,
 "nbformat_minor": 5
}
